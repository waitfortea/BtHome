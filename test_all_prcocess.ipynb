{
 "cells": [
  {
   "cell_type": "code",
   "execution_count": 1,
   "metadata": {
    "collapsed": true
   },
   "outputs": [],
   "source": [
    "import sys\n",
    "import os\n",
    "sys.path.insert(0,r\"D:\\文档\\program\\python\\BtHome\")\n",
    "from api.bthomeutils import *\n",
    "from api.lib.ToolKits.event.evenutils import *\n",
    "from api.lib.torrentmanager import *\n",
    "from api.lib.config import *"
   ]
  },
  {
   "cell_type": "code",
   "execution_count": 2,
   "outputs": [],
   "source": [
    "#开启\n",
    "EventUtils.seton('downloadlog')\n",
    "EventUtils.seton('networklog')\n",
    "EventUtils.seton('infolog')\n",
    "EventUtils.seton('loadconfig')\n",
    "EventUtils.seton('loadbrowser')\n",
    "EventUtils.seton('loadqb')\n",
    "\n",
    "EventUtils.run('loadconfig')\n",
    "EventUtils.run(eventname='loadbrowser', path=config['edge_exe_path'])"
   ],
   "metadata": {
    "collapsed": false
   }
  },
  {
   "cell_type": "code",
   "execution_count": 3,
   "outputs": [
    {
     "name": "stdout",
     "output_type": "stream",
     "text": [
      "https://www.1lou.pro/search-_E8_B5_9B_E9_A9_AC_E5_A8_98.htm\n",
      "torrentPageHtml获取\n",
      "[<Element a at 0x22f888d9f40>, <Element a at 0x22f888d9b00>, <Element a at 0x22f888d9180>, <Element a at 0x22f888d9cc0>, <Element a at 0x22f888d9d40>, <Element a at 0x22f888d90c0>, <Element a at 0x22f888d9e80>, <Element a at 0x22f888d9080>, <Element a at 0x22f888d9a00>, <Element a at 0x22f888d9fc0>, <Element a at 0x22f888d9340>, <Element a at 0x22f888d9680>, <Element a at 0x22f888d9100>, <Element a at 0x22f888d93c0>, <Element a at 0x22f888d9440>, <Element a at 0x22f888d9980>, <Element a at 0x22f888d9b80>, <Element a at 0x22f888d91c0>, <Element a at 0x22f888d9200>, <Element a at 0x22f888d9380>]\n"
     ]
    },
    {
     "data": {
      "text/plain": "[TorrentPage(title='[夸克下载][赛马娘 芦毛灰姑娘][更至3集][WEB-MKV/1.4G][简繁英字幕][1080P][4月新番]', url='https://www.1lou.pro/thread-727208.htm'),\n TorrentPage(title='赛马娘.芦毛灰姑娘[第03集][简繁英字幕].Umamusume.Cinderella.Gray.S01.2025.1080p.NF.WEB-DL.AAC.H264-Ze', url='https://www.1lou.pro/thread-727068.htm'),\n TorrentPage(title='[BT下载][赛马娘.芦毛灰姑娘][第03集][WEB-MKV/0.85G][简繁英字幕][1080P][Netflix][流媒体][ZeroTV]', url='https://www.1lou.pro/thread-727067.htm'),\n TorrentPage(title='赛马娘.芦毛灰姑娘[第02集][简繁英字幕].Umamusume.Cinderella.Gray.S01.2025.1080p.NF.WEB-DL.AAC.H264-Ze', url='https://www.1lou.pro/thread-721587.htm'),\n TorrentPage(title='[BT下载][赛马娘.芦毛灰姑娘][第02集][WEB-MKV/0.86G][简繁英字幕][1080P][Netflix][流媒体][ZeroTV]', url='https://www.1lou.pro/thread-721586.htm'),\n TorrentPage(title='[夸克下载][赛马娘 芦毛灰姑娘][更至2集][WEB-MKV/1.4G][简繁英字幕][1080P][4月新番]', url='https://www.1lou.pro/thread-721392.htm'),\n TorrentPage(title='[BT下载][赛马娘：芦毛灰姑娘 Umamusume Cinderella Gray][更新至03集][日语中字][MKV][1080P][多版]', url='https://www.1lou.pro/thread-719097.htm'),\n TorrentPage(title='[夸克下载][赛马娘][全3季][WEB-MKV/33.2G][日语中字][1080P]', url='https://www.1lou.pro/thread-715577.htm'),\n TorrentPage(title='==================== 2025年04月至06月季 日本动漫春季度一览表 ====================', url='https://www.1lou.pro/thread-708368.htm'),\n TorrentPage(title='赛马娘.第三季[全13集][简繁英字幕].Umamusume.Pretty.Derby.S03.2018.1080p.NF.WEB-DL.AAC2.0.H264-ZerTV', url='https://www.1lou.pro/thread-703285.htm'),\n TorrentPage(title='[BT下载][赛马娘.第三季][全13集][WEB-MKV/10.97G][简繁英字幕][1080P][Netflix][流媒体][ZerTV]', url='https://www.1lou.pro/thread-703284.htm'),\n TorrentPage(title='赛马娘.第二季[全13集][简繁英字幕].Umamusume.Pretty.Derby.S02.2018.1080p.NF.WEB-DL.AAC2.0.H264-ZerTV', url='https://www.1lou.pro/thread-703258.htm'),\n TorrentPage(title='[BT下载][赛马娘.第二季][全13集][WEB-MKV/11.11G][简繁英字幕][1080P][Netflix][流媒体][ZerTV]', url='https://www.1lou.pro/thread-703257.htm'),\n TorrentPage(title='赛马娘[全13集][简繁英字幕].Umamusume.Pretty.Derby.S01.2018.1080p.NF.WEB-DL.AAC2.0.H264-ZerTV 11.10GB', url='https://www.1lou.pro/thread-703256.htm'),\n TorrentPage(title='[BT下载][赛马娘][全13集][WEB-MKV/11.10G][简繁英字幕][1080P][Netflix][流媒体][ZerTV]', url='https://www.1lou.pro/thread-703255.htm'),\n TorrentPage(title='2025年04月新番播出时间一览表', url='https://www.1lou.pro/thread-702916.htm'),\n TorrentPage(title='[BT下载][赛马娘 新时代之扉 剧场版][全01集][日语中字][BD-MKV][1080P][BD多版]', url='https://www.1lou.pro/thread-698195.htm'),\n TorrentPage(title='2025年01月新番播出时间一览表', url='https://www.1lou.pro/thread-631710.htm'),\n TorrentPage(title='[BT下载][赛马娘新剧场版 新时代之扉][WEB-MP4/1.8G][日语音轨/中文字幕][1080p][H265编码][流媒体]', url='https://www.1lou.pro/thread-629187.htm'),\n TorrentPage(title='[BT下载][赛马娘 新时代之扉 剧场版][全01集][日语中字][MKV][1080P][多版]', url='https://www.1lou.pro/thread-624184.htm')]"
     },
     "execution_count": 3,
     "metadata": {},
     "output_type": "execute_result"
    }
   ],
   "source": [
    "\n",
    "torrentpage_list = BtHomeUtils.search(source='bthome', keyword='赛马娘')\n",
    "torrentpage_list"
   ],
   "metadata": {
    "collapsed": false
   }
  },
  {
   "cell_type": "code",
   "execution_count": 4,
   "outputs": [
    {
     "data": {
      "text/plain": "[SubtitleGroup(name='VARYG MKV 1080P官方中字', torrentpage=TorrentPage(title='[BT下载][赛马娘：芦毛灰姑娘 Umamusume Cinderella Gray][更新至03集][日语中字][MKV][1080P][多版]', url='https://www.1lou.pro/thread-719097.htm'), torrenturl_list=None, torrentelement_list=[<Element a at 0x22f88511b40>, <Element a at 0x22f8852ff00>, <Element a at 0x22f88558780>]),\n SubtitleGroup(name='天月搬運組 MKV 1080P官方中字', torrentpage=TorrentPage(title='[BT下载][赛马娘：芦毛灰姑娘 Umamusume Cinderella Gray][更新至03集][日语中字][MKV][1080P][多版]', url='https://www.1lou.pro/thread-719097.htm'), torrenturl_list=None, torrentelement_list=[<Element a at 0x22f88558740>, <Element a at 0x22f88558880>, <Element a at 0x22f88558800>]),\n SubtitleGroup(name='LoliHouse MKV 1080P简繁中', torrentpage=TorrentPage(title='[BT下载][赛马娘：芦毛灰姑娘 Umamusume Cinderella Gray][更新至03集][日语中字][MKV][1080P][多版]', url='https://www.1lou.pro/thread-719097.htm'), torrenturl_list=None, torrentelement_list=[<Element a at 0x22f8859fe00>, <Element a at 0x22f8859fd00>, <Element a at 0x22f8859fcc0>]),\n SubtitleGroup(name='动漫国字幕组 MP4 1080P简中/繁中', torrentpage=TorrentPage(title='[BT下载][赛马娘：芦毛灰姑娘 Umamusume Cinderella Gray][更新至03集][日语中字][MKV][1080P][多版]', url='https://www.1lou.pro/thread-719097.htm'), torrenturl_list=None, torrentelement_list=[<Element a at 0x22f888dc4c0>, <Element a at 0x22f8859fe80>, <Element a at 0x22f8859f280>, <Element a at 0x22fe01b7500>]),\n SubtitleGroup(name='小栗帽后援会&S1百综字幕组 MP4 1080P简中', torrentpage=TorrentPage(title='[BT下载][赛马娘：芦毛灰姑娘 Umamusume Cinderella Gray][更新至03集][日语中字][MKV][1080P][多版]', url='https://www.1lou.pro/thread-719097.htm'), torrenturl_list=None, torrentelement_list=[<Element a at 0x22fe01ee6c0>, <Element a at 0x22fe01ee440>, <Element a at 0x22fe01eec80>]),\n SubtitleGroup(name='樱都字幕组 MP4 1080P简中/繁中', torrentpage=TorrentPage(title='[BT下载][赛马娘：芦毛灰姑娘 Umamusume Cinderella Gray][更新至03集][日语中字][MKV][1080P][多版]', url='https://www.1lou.pro/thread-719097.htm'), torrenturl_list=None, torrentelement_list=[<Element a at 0x22f888d41c0>, <Element a at 0x22f888d4180>, <Element a at 0x22f888d4640>, <Element a at 0x22f888e84c0>]),\n SubtitleGroup(name='樱都字幕组 MKV 1080P简繁中', torrentpage=TorrentPage(title='[BT下载][赛马娘：芦毛灰姑娘 Umamusume Cinderella Gray][更新至03集][日语中字][MKV][1080P][多版]', url='https://www.1lou.pro/thread-719097.htm'), torrenturl_list=None, torrentelement_list=[<Element a at 0x22f888e8340>, <Element a at 0x22f888e8080>]),\n SubtitleGroup(name='北宇治字幕组 MP4 1080P简日中/繁日中', torrentpage=TorrentPage(title='[BT下载][赛马娘：芦毛灰姑娘 Umamusume Cinderella Gray][更新至03集][日语中字][MKV][1080P][多版]', url='https://www.1lou.pro/thread-719097.htm'), torrenturl_list=None, torrentelement_list=[<Element a at 0x22f888e8280>, <Element a at 0x22f888e8dc0>, <Element a at 0x22f888e8780>, <Element a at 0x22f888e8c80>]),\n SubtitleGroup(name='北宇治字幕组 MKV 1080P简繁日中', torrentpage=TorrentPage(title='[BT下载][赛马娘：芦毛灰姑娘 Umamusume Cinderella Gray][更新至03集][日语中字][MKV][1080P][多版]', url='https://www.1lou.pro/thread-719097.htm'), torrenturl_list=None, torrentelement_list=[<Element a at 0x22f888e8c40>, <Element a at 0x22f888e8e80>])]"
     },
     "execution_count": 4,
     "metadata": {},
     "output_type": "execute_result"
    }
   ],
   "source": [
    "sg_lsit = BtHomeUtils.get_subtitlegroup(source='bthome', torrentpage=torrentpage_list[6])\n",
    "sg_lsit"
   ],
   "metadata": {
    "collapsed": false
   }
  },
  {
   "cell_type": "code",
   "execution_count": 5,
   "outputs": [
    {
     "data": {
      "text/plain": "TorrentGroup(torrent_list=[Torrent(name='      [桜都字幕组] 赛马娘 芦毛灰姑娘 _ Uma Musume Cinderella Gray [01v2][1080p][简体内嵌].torrent  ', downloadurl='https://www.1lou.pro/attach-download-2382283.htm', subtitlegroup=SubtitleGroup(name='樱都字幕组 MP4 1080P简中/繁中', torrentpage=TorrentPage(title='[BT下载][赛马娘：芦毛灰姑娘 Umamusume Cinderella Gray][更新至03集][日语中字][MKV][1080P][多版]', url='https://www.1lou.pro/thread-719097.htm'), torrenturl_list=None, torrentelement_list=[<Element a at 0x22f888d41c0>, <Element a at 0x22f888d4180>, <Element a at 0x22f888d4640>, <Element a at 0x22f888e84c0>])), Torrent(name='      [桜都字幕組] 賽馬娘 灰髮灰姑娘 _ Uma Musume Cinderella Gray [01v2][1080p][繁體內嵌].torrent  ', downloadurl='https://www.1lou.pro/attach-download-2382284.htm', subtitlegroup=SubtitleGroup(name='樱都字幕组 MP4 1080P简中/繁中', torrentpage=TorrentPage(title='[BT下载][赛马娘：芦毛灰姑娘 Umamusume Cinderella Gray][更新至03集][日语中字][MKV][1080P][多版]', url='https://www.1lou.pro/thread-719097.htm'), torrenturl_list=None, torrentelement_list=[<Element a at 0x22f888d41c0>, <Element a at 0x22f888d4180>, <Element a at 0x22f888d4640>, <Element a at 0x22f888e84c0>])), Torrent(name='      [桜都字幕组] 赛马娘 芦毛灰姑娘 _ Uma Musume Cinderella Gray [02][1080p][简体内嵌].torrent  ', downloadurl='https://www.1lou.pro/attach-download-2384013.htm', subtitlegroup=SubtitleGroup(name='樱都字幕组 MP4 1080P简中/繁中', torrentpage=TorrentPage(title='[BT下载][赛马娘：芦毛灰姑娘 Umamusume Cinderella Gray][更新至03集][日语中字][MKV][1080P][多版]', url='https://www.1lou.pro/thread-719097.htm'), torrenturl_list=None, torrentelement_list=[<Element a at 0x22f888d41c0>, <Element a at 0x22f888d4180>, <Element a at 0x22f888d4640>, <Element a at 0x22f888e84c0>])), Torrent(name='      [桜都字幕組] 賽馬娘 灰髮灰姑娘 _ Uma Musume Cinderella Gray [02][1080p][繁體內嵌].torrent  ', downloadurl='https://www.1lou.pro/attach-download-2384014.htm', subtitlegroup=SubtitleGroup(name='樱都字幕组 MP4 1080P简中/繁中', torrentpage=TorrentPage(title='[BT下载][赛马娘：芦毛灰姑娘 Umamusume Cinderella Gray][更新至03集][日语中字][MKV][1080P][多版]', url='https://www.1lou.pro/thread-719097.htm'), torrenturl_list=None, torrentelement_list=[<Element a at 0x22f888d41c0>, <Element a at 0x22f888d4180>, <Element a at 0x22f888d4640>, <Element a at 0x22f888e84c0>]))], subtitlegroup=SubtitleGroup(name='樱都字幕组 MP4 1080P简中/繁中', torrentpage=TorrentPage(title='[BT下载][赛马娘：芦毛灰姑娘 Umamusume Cinderella Gray][更新至03集][日语中字][MKV][1080P][多版]', url='https://www.1lou.pro/thread-719097.htm'), torrenturl_list=None, torrentelement_list=[<Element a at 0x22f888d41c0>, <Element a at 0x22f888d4180>, <Element a at 0x22f888d4640>, <Element a at 0x22f888e84c0>]))"
     },
     "execution_count": 5,
     "metadata": {},
     "output_type": "execute_result"
    }
   ],
   "source": [
    "torrentgroup = BtHomeUtils.get_torrent(source='bthome', subtitlegroup=sg_lsit[5])\n",
    "torrentgroup"
   ],
   "metadata": {
    "collapsed": false
   }
  },
  {
   "cell_type": "code",
   "execution_count": 6,
   "outputs": [
    {
     "data": {
      "text/plain": "[Torrent(name='      [桜都字幕组] 赛马娘 芦毛灰姑娘 _ Uma Musume Cinderella Gray [01v2][1080p][简体内嵌].torrent  ', downloadurl='https://www.1lou.pro/attach-download-2382283.htm', subtitlegroup=SubtitleGroup(name='樱都字幕组 MP4 1080P简中/繁中', torrentpage=TorrentPage(title='[BT下载][赛马娘：芦毛灰姑娘 Umamusume Cinderella Gray][更新至03集][日语中字][MKV][1080P][多版]', url='https://www.1lou.pro/thread-719097.htm'), torrenturl_list=None, torrentelement_list=[<Element a at 0x22f888d41c0>, <Element a at 0x22f888d4180>, <Element a at 0x22f888d4640>, <Element a at 0x22f888e84c0>])),\n Torrent(name='      [桜都字幕组] 赛马娘 芦毛灰姑娘 _ Uma Musume Cinderella Gray [02][1080p][简体内嵌].torrent  ', downloadurl='https://www.1lou.pro/attach-download-2384013.htm', subtitlegroup=SubtitleGroup(name='樱都字幕组 MP4 1080P简中/繁中', torrentpage=TorrentPage(title='[BT下载][赛马娘：芦毛灰姑娘 Umamusume Cinderella Gray][更新至03集][日语中字][MKV][1080P][多版]', url='https://www.1lou.pro/thread-719097.htm'), torrenturl_list=None, torrentelement_list=[<Element a at 0x22f888d41c0>, <Element a at 0x22f888d4180>, <Element a at 0x22f888d4640>, <Element a at 0x22f888e84c0>]))]"
     },
     "execution_count": 6,
     "metadata": {},
     "output_type": "execute_result"
    }
   ],
   "source": [
    "torrent_list = TorrentManager.filtername(torrentgroup.torrent_list, word_list=['简体'])\n",
    "torrent_list"
   ],
   "metadata": {
    "collapsed": false
   }
  },
  {
   "cell_type": "code",
   "execution_count": 7,
   "outputs": [
    {
     "data": {
      "text/plain": "[Torrent(name='      [桜都字幕组] 赛马娘 芦毛灰姑娘 _ Uma Musume Cinderella Gray [01v2][1080p][简体内嵌].torrent  ', downloadurl='https://www.1lou.pro/attach-download-2382283.htm', subtitlegroup=SubtitleGroup(name='樱都字幕组 MP4 1080P简中/繁中', torrentpage=TorrentPage(title='[BT下载][赛马娘：芦毛灰姑娘 Umamusume Cinderella Gray][更新至03集][日语中字][MKV][1080P][多版]', url='https://www.1lou.pro/thread-719097.htm'), torrenturl_list=None, torrentelement_list=[<Element a at 0x22f888d41c0>, <Element a at 0x22f888d4180>, <Element a at 0x22f888d4640>, <Element a at 0x22f888e84c0>])),\n Torrent(name='      [桜都字幕组] 赛马娘 芦毛灰姑娘 _ Uma Musume Cinderella Gray [02][1080p][简体内嵌].torrent  ', downloadurl='https://www.1lou.pro/attach-download-2384013.htm', subtitlegroup=SubtitleGroup(name='樱都字幕组 MP4 1080P简中/繁中', torrentpage=TorrentPage(title='[BT下载][赛马娘：芦毛灰姑娘 Umamusume Cinderella Gray][更新至03集][日语中字][MKV][1080P][多版]', url='https://www.1lou.pro/thread-719097.htm'), torrenturl_list=None, torrentelement_list=[<Element a at 0x22f888d41c0>, <Element a at 0x22f888d4180>, <Element a at 0x22f888d4640>, <Element a at 0x22f888e84c0>]))]"
     },
     "execution_count": 7,
     "metadata": {},
     "output_type": "execute_result"
    }
   ],
   "source": [
    "torrent_list = TorrentManager.localtorrentcheck(torrent_list, r'D:\\download\\BtHome下载\\2025.04\\BtHome\\赛马娘 芦毛灰姑娘')\n",
    "torrent_list"
   ],
   "metadata": {
    "collapsed": false
   }
  },
  {
   "cell_type": "code",
   "execution_count": 8,
   "outputs": [],
   "source": [
    "BtHomeUtils.add_torrent(torrent_list)"
   ],
   "metadata": {
    "collapsed": false
   }
  },
  {
   "cell_type": "code",
   "execution_count": 9,
   "outputs": [],
   "source": [
    "BtHomeUtils.download_torrent(savepath=r'D:\\download\\BtHome下载\\2025.04\\BtHome\\赛马娘 芦毛灰姑娘')\n"
   ],
   "metadata": {
    "collapsed": false
   }
  },
  {
   "cell_type": "code",
   "execution_count": 10,
   "outputs": [
    {
     "data": {
      "text/plain": "['D:\\\\download\\\\BtHome下载\\\\2025.04\\\\BtHome\\\\赛马娘 芦毛灰姑娘\\\\      [桜都字幕组] 赛马娘 芦毛灰姑娘 _ Uma Musume Cinderella Gray [01v2][1080p][简体内嵌].torrent',\n 'D:\\\\download\\\\BtHome下载\\\\2025.04\\\\BtHome\\\\赛马娘 芦毛灰姑娘\\\\      [桜都字幕组] 赛马娘 芦毛灰姑娘 _ Uma Musume Cinderella Gray [02][1080p][简体内嵌].torrent']"
     },
     "execution_count": 10,
     "metadata": {},
     "output_type": "execute_result"
    }
   ],
   "source": [
    "torrentpath_list = BtHomeUtils.show_torrentpath_list()\n",
    "torrentpath_list"
   ],
   "metadata": {
    "collapsed": false
   }
  },
  {
   "cell_type": "code",
   "execution_count": 11,
   "outputs": [
    {
     "name": "stdout",
     "output_type": "stream",
     "text": [
      "=========开始添加种子=========\n",
      "stat: path should be string, bytes, os.PathLike or integer, not list\n",
      "保存路径为:D:\\download\\BtHome下载\\2025.04\\BtHome\\赛马娘 芦毛灰姑娘\n",
      "保存路径为:D:\\download\\BtHome下载\\2025.04\\BtHome\\赛马娘 芦毛灰姑娘\n",
      "=========添加种子完毕=========\n"
     ]
    }
   ],
   "source": [
    "BtHomeUtils.qb_add()"
   ],
   "metadata": {
    "collapsed": false
   }
  }
 ],
 "metadata": {
  "kernelspec": {
   "display_name": "Python 3",
   "language": "python",
   "name": "python3"
  },
  "language_info": {
   "codemirror_mode": {
    "name": "ipython",
    "version": 2
   },
   "file_extension": ".py",
   "mimetype": "text/x-python",
   "name": "python",
   "nbconvert_exporter": "python",
   "pygments_lexer": "ipython2",
   "version": "2.7.6"
  }
 },
 "nbformat": 4,
 "nbformat_minor": 0
}
