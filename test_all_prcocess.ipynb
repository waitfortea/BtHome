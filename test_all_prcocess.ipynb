{
 "cells": [
  {
   "cell_type": "code",
   "execution_count": 26,
   "metadata": {
    "collapsed": true
   },
   "outputs": [],
   "source": [
    "import sys\n",
    "import os\n",
    "sys.path.insert(0,r\"D:\\文档\\program\\python\\BtHome\")\n",
    "from api.bthomeutils import *\n",
    "from api.lib.ToolKits.event.evenutils import *\n",
    "from api.lib.torrentmanager import *"
   ]
  },
  {
   "cell_type": "code",
   "execution_count": 27,
   "outputs": [
    {
     "ename": "AttributeError",
     "evalue": "'NoneType' object has no attribute 'loadconfg'",
     "output_type": "error",
     "traceback": [
      "\u001B[1;31m---------------------------------------------------------------------------\u001B[0m",
      "\u001B[1;31mAttributeError\u001B[0m                            Traceback (most recent call last)",
      "Cell \u001B[1;32mIn[27], line 8\u001B[0m\n\u001B[0;32m      5\u001B[0m EventUtils\u001B[38;5;241m.\u001B[39mseton(\u001B[38;5;124m'\u001B[39m\u001B[38;5;124mloadconfig\u001B[39m\u001B[38;5;124m'\u001B[39m)\n\u001B[0;32m      6\u001B[0m EventUtils\u001B[38;5;241m.\u001B[39mseton(\u001B[38;5;124m'\u001B[39m\u001B[38;5;124mloadbrowser\u001B[39m\u001B[38;5;124m'\u001B[39m)\n\u001B[1;32m----> 8\u001B[0m \u001B[43mEventUtils\u001B[49m\u001B[38;5;241;43m.\u001B[39;49m\u001B[43mrun\u001B[49m\u001B[43m(\u001B[49m\u001B[38;5;124;43m'\u001B[39;49m\u001B[38;5;124;43mloadconfig\u001B[39;49m\u001B[38;5;124;43m'\u001B[39;49m\u001B[43m)\u001B[49m\n\u001B[0;32m      9\u001B[0m EventUtils\u001B[38;5;241m.\u001B[39mrun(eventname\u001B[38;5;241m=\u001B[39m\u001B[38;5;124m'\u001B[39m\u001B[38;5;124mloadbrowser\u001B[39m\u001B[38;5;124m'\u001B[39m, path\u001B[38;5;241m=\u001B[39mconfig[\u001B[38;5;124m'\u001B[39m\u001B[38;5;124medge_exe_path\u001B[39m\u001B[38;5;124m'\u001B[39m])\n",
      "File \u001B[1;32mD:\\文档\\program\\python\\BtHome\\api\\lib\\ToolKits\\event\\evenutils.py:43\u001B[0m, in \u001B[0;36mEventUtils.run\u001B[1;34m(cls, eventname, *args, **kwargs)\u001B[0m\n\u001B[0;32m     41\u001B[0m \u001B[38;5;28;01melse\u001B[39;00m:\n\u001B[0;32m     42\u001B[0m     \u001B[38;5;28;01mfor\u001B[39;00m eventfn \u001B[38;5;129;01min\u001B[39;00m \u001B[38;5;28mcls\u001B[39m\u001B[38;5;241m.\u001B[39m__on_event[eventname]:\n\u001B[1;32m---> 43\u001B[0m         \u001B[43meventfn\u001B[49m\u001B[43m(\u001B[49m\u001B[38;5;241;43m*\u001B[39;49m\u001B[43margs\u001B[49m\u001B[43m,\u001B[49m\u001B[43m \u001B[49m\u001B[38;5;241;43m*\u001B[39;49m\u001B[38;5;241;43m*\u001B[39;49m\u001B[43mkwargs\u001B[49m\u001B[43m)\u001B[49m\n",
      "File \u001B[1;32mD:\\文档\\program\\python\\BtHome\\api\\lib\\config.py:34\u001B[0m, in \u001B[0;36mloadconfig\u001B[1;34m(path)\u001B[0m\n\u001B[0;32m     31\u001B[0m \u001B[38;5;129m@EventUtils\u001B[39m\u001B[38;5;241m.\u001B[39mregister(\u001B[38;5;124m'\u001B[39m\u001B[38;5;124mloadconfig\u001B[39m\u001B[38;5;124m'\u001B[39m)\n\u001B[0;32m     32\u001B[0m \u001B[38;5;28;01mdef\u001B[39;00m \u001B[38;5;21mloadconfig\u001B[39m(path\u001B[38;5;241m=\u001B[39m\u001B[38;5;124mf\u001B[39m\u001B[38;5;124m\"\u001B[39m\u001B[38;5;132;01m{\u001B[39;00mre\u001B[38;5;241m.\u001B[39msearch(\u001B[38;5;124mr\u001B[39m\u001B[38;5;124m'\u001B[39m\u001B[38;5;124m.*BtHome\u001B[39m\u001B[38;5;124m'\u001B[39m,os\u001B[38;5;241m.\u001B[39mpath\u001B[38;5;241m.\u001B[39mdirname(\u001B[38;5;18m__file__\u001B[39m))\u001B[38;5;241m.\u001B[39mgroup()\u001B[38;5;132;01m}\u001B[39;00m\u001B[38;5;124m/config/config.yaml\u001B[39m\u001B[38;5;124m\"\u001B[39m):\n\u001B[0;32m     33\u001B[0m     \u001B[38;5;28;01mglobal\u001B[39;00m config\n\u001B[1;32m---> 34\u001B[0m     config \u001B[38;5;241m=\u001B[39m \u001B[43mconfig\u001B[49m\u001B[38;5;241;43m.\u001B[39;49m\u001B[43mloadconfg\u001B[49m(SerializeUtils\u001B[38;5;241m.\u001B[39mget_yamldict(path))\n",
      "\u001B[1;31mAttributeError\u001B[0m: 'NoneType' object has no attribute 'loadconfg'"
     ]
    }
   ],
   "source": [
    "#开启\n",
    "EventUtils.seton('downloadlog')\n",
    "EventUtils.seton('networklog')\n",
    "EventUtils.seton('infolog')\n",
    "EventUtils.seton('loadconfig')\n",
    "EventUtils.seton('loadbrowser')\n",
    "\n",
    "EventUtils.run('loadconfig')\n",
    "EventUtils.run(eventname='loadbrowser', path=config['edge_exe_path'])"
   ],
   "metadata": {
    "collapsed": false
   }
  },
  {
   "cell_type": "code",
   "execution_count": null,
   "outputs": [],
   "source": [
    "\n",
    "torrentpage_lsit = BtHomeUtils.search(source='bthome', keyword='赛马娘')"
   ],
   "metadata": {
    "collapsed": false
   }
  },
  {
   "cell_type": "code",
   "execution_count": null,
   "outputs": [],
   "source": [
    "sg_lsit = BtHomeUtils.get_subtitlegroup(source='bthome', torrentpage=torrentpage_lsit[6])\n",
    "sg_lsit"
   ],
   "metadata": {
    "collapsed": false
   }
  },
  {
   "cell_type": "code",
   "execution_count": null,
   "outputs": [],
   "source": [
    "torrentgroup = BtHomeUtils.get_torrent(source='bthome', subtitlegroup=sg_lsit[5])\n",
    "torrentgroup"
   ],
   "metadata": {
    "collapsed": false
   }
  },
  {
   "cell_type": "code",
   "execution_count": null,
   "outputs": [],
   "source": [
    "torrent_list = TorrentManager.filtername(torrentgroup.torrent_list, word_list=['简体'])\n",
    "torrent_list"
   ],
   "metadata": {
    "collapsed": false
   }
  },
  {
   "cell_type": "code",
   "execution_count": null,
   "outputs": [],
   "source": [],
   "metadata": {
    "collapsed": false
   }
  }
 ],
 "metadata": {
  "kernelspec": {
   "display_name": "Python 3",
   "language": "python",
   "name": "python3"
  },
  "language_info": {
   "codemirror_mode": {
    "name": "ipython",
    "version": 2
   },
   "file_extension": ".py",
   "mimetype": "text/x-python",
   "name": "python",
   "nbconvert_exporter": "python",
   "pygments_lexer": "ipython2",
   "version": "2.7.6"
  }
 },
 "nbformat": 4,
 "nbformat_minor": 0
}
